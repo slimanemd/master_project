{
 "cells": [
  {
   "cell_type": "markdown",
   "metadata": {},
   "source": [
    "# Intrusion-detection-system & Machine Learning"
   ]
  },
  {
   "cell_type": "markdown",
   "metadata": {},
   "source": [
    "## References"
   ]
  },
  {
   "cell_type": "markdown",
   "metadata": {},
   "source": [
    "<!-- <a href=\"\">0</a>-   -->\n",
    "<a href=\"https://github.com/dimtics/Network-Intrusion-Detection-Using-Machine-Learning-Techniques\">01</a>- \n",
    "Demetric, Network Intrusion Detection Using Machine Learning Techniques <br>\n",
    "<a href=\"https://github.com/Anshumank399/Network-Intrusion-Detection-using-Machine-Learning\">02</a>- \n",
    "Anshumank399, Network-Intrusion-Detection-using-Machine-Learning<br>\n",
    "<a href=\"https://github.com/prabhant/Network-Intrusion-detection-with-machine-learning\">03</a>- \n",
    "prabhant, Network-Intrusion-detection-with-machine-learning<br>\n",
    "<a href=\"https://github.com/CynthiaKoopman/Network-Intrusion-Detection\">04</a>-\n",
    "CynthiaKoopman,Network-Intrusion-Detection Machine Learning with the NSL-KDD dataset for Network Intrusion Detection<br>\n",
    "<a href=\"https://github.com/reshu-b7/Machine-Learning-for-Network-Intrusion-Detection-System\">05</a>-\n",
    "reshu-b7, Machine-Learning-for-Network-Intrusion-Detection-System<br>\n",
    "<a href=\"https://github.com/topics/intrusion-detection-system\">06</a>-\n",
    "Topics, intrusion-detection-system<br>\n",
    "<a href=\"https://github.com/rahulvigneswaran/Intrusion-Detection-Systems\">07</a>-\n",
    "rahulvigneswaran, Intrusion-Detection-Systems. This is the repo of the research paper, \"Evaluating Shallow and Deep Neural Networks for Network Intrusion Detection Systems in Cyber Security<br>\n",
    "<a href=\"https://github.com/vinayakumarr/Network-Intrusion-Detection\">08</a>-\n",
    "vinayakumarr, Network-Intrusion-Detection. Network Intrusion Detection KDDCup '99', NSL-KDD and UNSW-NB15<br>\n",
    "<a href=\"https://github.com/topics/intrusion-detection\">09</a>-\n",
    "topic, intrusion-detection<br>\n",
    "<a href=\"https://github.com/aalbalaw/Building-Intrusion-Detection-System\">10</a>-\n",
    "Aalbalaw, Building Intrusion Detection System for Network Security Using the KD99 Data Set<br>\n",
    "<a href=\"https://octolinker-demo.now.sh/CynthiaKoopman/Network-Intrusion-Detection\">11</a>-\n",
    "CynthiaKoopman, Network-Intrusion-Detection, Machine Learning with the NSL-KDD dataset for Network Intrusion Detection<br>\n",
    "<a href=\"https://thesai.org/Downloads/Volume7No4/Paper_19-A_Subset_Feature_Elimination_Mechanism_for_Intrusion_Detection_System.pdf\">12</a>-\n",
    "A_Subset_Feature_Elimination_Mechanism_for_Intrusion_Detection_System<br>\n",
    "<a href=\"https://github.com/imRP26/Network-based-Intrusion-Detection-Systems\">13</a>-\n",
    "imRP26, Network-based-Intrusion-Detection-Systems"
   ]
  },
  {
   "cell_type": "markdown",
   "metadata": {},
   "source": [
    "**Table of Contents**"
   ]
  },
  {
   "cell_type": "markdown",
   "metadata": {},
   "source": [
    "- [📝 Notes](#-notes)\n",
    "  - [IDS Classification](#ids-classification)\n",
    "    - [By location ( source of data)](#by-location--source-of-data)\n",
    "    - [By technique](#by-technique)\n",
    "  - [Threats](#threats)\n",
    "  - [Datasets](#datasets)\n",
    "  - [Used ML Techniques](#used-ml-techniques)\n",
    "- [📑 References](#-references)\n",
    "- [🛠 Tools](#-tools)\n",
    "- [💡 Ideas](#-ideas)"
   ]
  },
  {
   "cell_type": "markdown",
   "metadata": {},
   "source": [
    "# 📝 Notes"
   ]
  },
  {
   "cell_type": "markdown",
   "metadata": {},
   "source": [
    "## IDS Classification"
   ]
  },
  {
   "cell_type": "markdown",
   "metadata": {},
   "source": [
    "Mainly every single paper includes this classification such as [P01](references/1806.03517.pdf), [P02](references/1701.02145.pdf), [P03](references/algorithms-10-00039-v2.pdf)"
   ]
  },
  {
   "cell_type": "markdown",
   "metadata": {},
   "source": [
    "### By location ( source of data)"
   ]
  },
  {
   "cell_type": "markdown",
   "metadata": {},
   "source": [
    "1. **Host based (HIDS)**"
   ]
  },
  {
   "cell_type": "markdown",
   "metadata": {},
   "source": [
    "   - Monitor host system log file.\n",
    "   - Advantage of being able to detect threats from within by scanning through the traffic activities before sending and receiving data\n",
    "   - Its main disadvantage is that only monitors the host computer, meaning it has to be installed on each host"
   ]
  },
  {
   "cell_type": "markdown",
   "metadata": {},
   "source": [
    "2. **Network based (NIDS)**"
   ]
  },
  {
   "cell_type": "markdown",
   "metadata": {},
   "source": [
    "   - Monitor network traffic.\n",
    "   - Advantage of having a single system monitoring an entire network, saving time and cost of installing software on each host\n",
    "   - Disadvantage is its vulnerability to internal intrusions."
   ]
  },
  {
   "cell_type": "markdown",
   "metadata": {},
   "source": [
    "3. **Hybrid**"
   ]
  },
  {
   "cell_type": "markdown",
   "metadata": {},
   "source": [
    "Table 1, page 04 from [P02](references/1701.02145.pdf) , provides a a performance comparison of HIDS and NIDS."
   ]
  },
  {
   "cell_type": "markdown",
   "metadata": {},
   "source": [
    "### By technique"
   ]
  },
  {
   "cell_type": "markdown",
   "metadata": {},
   "source": [
    "1. **Signature / Misuse based detection**"
   ]
  },
  {
   "cell_type": "markdown",
   "metadata": {},
   "source": [
    "   - Defines a set of rules used to match the patterns in the network traffic. If a mismatch is detected it raises an alarm\n",
    "   - Advantage of being able to detect attacks giving a low false positive detection ratio.\n",
    "   - Drawback of being able to detect only attacks known to the database"
   ]
  },
  {
   "cell_type": "markdown",
   "metadata": {},
   "source": [
    "2. **Anomaly based detection**"
   ]
  },
  {
   "cell_type": "markdown",
   "metadata": {},
   "source": [
    "   - Depends on identifying patterns and comparing them to normal traffic patterns.\n",
    "   - Can detect attacks with unknown patterns\n",
    "   - However, the false positive rate is often high.\n",
    "   - ML techniques falls into this category."
   ]
  },
  {
   "cell_type": "markdown",
   "metadata": {},
   "source": [
    "3. **Specification / Hybrid Based**"
   ]
  },
  {
   "cell_type": "markdown",
   "metadata": {},
   "source": [
    "   - It is used for detecting firstly known and then unknown attacks."
   ]
  },
  {
   "cell_type": "markdown",
   "metadata": {},
   "source": [
    "## Threats"
   ]
  },
  {
   "cell_type": "markdown",
   "metadata": {},
   "source": [
    "- [P01](references/1806.03517.pdf) provides taxonomy of threats based on the affected layer on the OSI model, the type of attack active/passive ..., recent updates can be found in their [github repo](https://github.com/AbertayMachineLearningGroup/network-threats-taxonomy)\n",
    "\n",
    "- [P03](references/algorithms-10-00039-v2.pdf) provides the classification of threats based on the CIA triangle.\n",
    "\n",
    "- The type of threats to defense against is highly related to the chosen dataset."
   ]
  },
  {
   "cell_type": "markdown",
   "metadata": {},
   "source": [
    "## Datasets"
   ]
  },
  {
   "cell_type": "markdown",
   "metadata": {},
   "source": [
    "- The data used to train an IDS algorithm are normally provided as a dataset of recorded network features with their associated intrusion labels.\n",
    "- [P04](references/Survey_DataSets.pdf) is a full survey about NIDS datasets, it provides a comparison between 34 datasets and some good recommendations.\n",
    "- Network-based data appear in packet-based or flow-based format:\n",
    "  1. **packet based data**: is commonly captured in pcap format and contains payload.\n",
    "  2. **flow-based data**: aggregate all packets which share some properties within a time window into one flow and usually do not include any payload.\n",
    "- There are some datasets that are neither purely packet-based nor flow-based.\n",
    "- The most used datasets are:\n",
    "\n",
    "  1. **KDD CUP 99** which is criticized for the large amount of redundancy and considered as deprecated\n",
    "  2. **NSL-KDD** enhanced the KDD CUP 99 dataset and it is considered as a good benchmark dataset to compare results between researchers, although it data go back to 1998.\n",
    "\n",
    "- The authors of [P04](references/Survey_DataSets.pdf) give a general recommendation for the use of:\n",
    "\n",
    "  - **CICIDS 2017**: contains a wide range of attack scenarios, [link](https://www.unb.ca/cic/datasets/ids-2017.html)\n",
    "  - **CIDDS-001**: contains detailed metadata for deeper investigations, [link](https://www.hs-coburg.de/index.php?id=927)\n",
    "  - **UGR’16**: stands out by the huge amount of flows, [link](https://nesg.ugr.es/nesg-ugr16/index.php)\n",
    "  - **UNSW-NB15**: contain a wide range of attack scenarios, [link](https://www.unsw.adfa.edu.au/unsw-canberra-cyber/cybersecurity/ADFA-NB15-Datasets/)\n",
    "  - **CTU-13**: increasing age , [link](https://mcfp.weebly.com/the-ctu-13-dataset-a-labeled-dataset-with-botnet-normal-and-background-traffic.html)\n",
    "  - **ISCX 2012**: increasing age [link](https://www.unb.ca/cic/datasets/ids.html)\n",
    "  - **AWID**: better suited for certain evaluation scenarios (wireless network), [link](http://icsdweb.aegean.gr/awid/index.html)\n",
    "  - **Botnet**: better suited for certain evaluation scenarios, [link](https://www.unb.ca/cic/datasets/botnet.html)\n",
    "\n",
    "- The University of New Brunswick (Canada) provides a good set of datasets in thier [website](https://www.unb.ca/cic/datasets/index.html)\n",
    "- Some IoT specific databases:\n",
    "\n",
    "  - **IoT Network Intrusion Dataset** : it comes in raw pcap format [link](http://ocslab.hksecurity.net/Datasets/iot-network-intrusion-dataset)\n",
    "\n",
    "- I think in order to deploy the trained model in real world, the chosen dataset should come with a script ( or just an explained method ) how the features are extracted from the raw packets."
   ]
  },
  {
   "cell_type": "markdown",
   "metadata": {},
   "source": [
    "## Used ML Techniques"
   ]
  },
  {
   "cell_type": "markdown",
   "metadata": {},
   "source": [
    "The applied machine learning techniques varies from supervised, unsupervised, semi-supervised, RL and DRL!!!\n",
    "\n",
    "- [P05](references/document.pdf) do not analyze network traffic or series of system calls. Instead, they process alerts generated by sensors (IDSs such as Snort, applications, etc).\n",
    "- [P06](references/lopez-martin2019.pdf) presents how to perform supervised learning based on a DRL framework.\n",
    "\n",
    "  - DRL is a type of reinforcement learning (RL) which uses deep learning models (e.g. NN, convolutional NN…) as function approximators for the policy and/or value functions used in RL.\n",
    "  - They apply 4 different DRL algorithms (DQN, DDQN, PG amd AC) using a dataset of labeled samples without interacting with a live environment where:\n",
    "    - the states to network traffic samples,\n",
    "    - the actions to label predictions,\n",
    "    - the rewards to a value associated with the goodness of the prediction, i.e. classification accuracy (better prediction implies a greater reward value).\n",
    "  - They choose NSL-KDD and AWID datasets\n",
    "  - DRL, with their model and some parameter adjustments:\n",
    "    - can improve the results of intrusion detection in comparison with current machine learning techniques\n",
    "    - the classifier obtained with DRL is faster than alternative models.\n",
    "\n",
    "- Similar to [P06](references/lopez-martin2019.pdf), [P07](references/caminero2019.pdf) propose a model base on DRL but with 2 agents:\n",
    "\n",
    "  - a classifier agent\n",
    "  - an environment agent: choose samples from the dataset that is hard for the classifier to correctly predict.\n",
    "\n",
    "- The work in [P07](references/caminero2019.pdf) AE-RL (Adversarial Environment RL) is very interesting and all code is available in their [github reop](https://github.com/gcamfer/Anomaly-ReactionRL)\n",
    "\n",
    "- [P08](references/1906.05799.pdf) presents a survey on Deep Reinforcement Learning for Cyber Security and highlight attacks in adversarial environment where **hackers can take advantages of AI to make attacks smarter and more sophisticated to bypass detection methods to penetrate computer systems or networks**.\n",
    "- [P09](references/1911.02621.pdf) presents a survey about the Threat of Adversarial Attacks on Machine Learning in Network Security:\n",
    "  - The attacker can apply some small changes to the input data that is possible to induce a wrong prediction from the machine learning model\n",
    "  - This domain is well known and applied in Image classification, but its application in Cyber Security is not that well explored.\n",
    "  - Machine learning applications in network security such as malware detection, intrusion detection, and spam filtering are by themselves adversarial in nature.\n",
    "  - [P10](references/sommer2010.pdf) propose a model for generating adversarial attacks targeted towards intrusion detection systems, that model is based on GAN (Generative adversarial network)\n",
    "  - One of the defenses against adversarial attacks is **Adversarial Training** which improves the classification performance of the machine learning model and makes it more resilient to adversarial crafting, it is done in 3 steps:\n",
    "    1. Train the classifier on the original dataset\n",
    "    2. Generate adversarial samples\n",
    "    3. Iterate additional training epochs using the adversarial examples."
   ]
  },
  {
   "cell_type": "markdown",
   "metadata": {},
   "source": [
    "# 📑 References"
   ]
  },
  {
   "cell_type": "markdown",
   "metadata": {},
   "source": [
    "| Code                                         | Title                                                                                                       |\n",
    "| -------------------------------------------- | ----------------------------------------------------------------------------------------------------------- |\n",
    "| [P01](references/1806.03517.pdf)             | A Taxonomy and Survey of Intrusion Detection System Design Techniques, Network Threats and Datasets         |\n",
    "| [P02](references/1701.02145.pdf)             | Shallow and Deep Networks Intrusion Detection System: A Taxonomy and Survey                                 |\n",
    "| [P03](references/algorithms-10-00039-v2.pdf) | From Intrusion Detection to an Intrusion Response System: Fundamentals, Requirements, and Future Directions |\n",
    "| [P04](references/Survey_DataSets.pdf)        | A Survey of Network-based Intrusion Detection Data Sets                                                     |\n",
    "| [P05](references/document.pdf)               | An approach to the correlation of security events based on machine learning techniques                      |\n",
    "| [P06](references/lopez-martin2019.pdf)       | Application of deep reinforcement learning to intrusion detection for supervised problems                   |\n",
    "| [P07](references/caminero2019.pdf)           | Adversarial environment reinforcement learning algorithm for intrusion detection                            |\n",
    "| [P08](references/1906.05799.pdf)             | Deep Reinforcement Learning for Cyber Security                                                              |\n",
    "| [P09](references/1911.02621.pdf)             | The Threat of Adversarial Attacks on Machine Learning in Network Security - A Survey                        |\n",
    "| [P10](references/1809.02077.pdf)             | IDSGAN: Generative Adversarial Networks for Attack Generation against Intrusion Detection                   |"
   ]
  },
  {
   "cell_type": "markdown",
   "metadata": {},
   "source": [
    "# 🛠 Tools"
   ]
  },
  {
   "cell_type": "markdown",
   "metadata": {},
   "source": [
    "- **Packet Tracer** for network simulation\n",
    "- **Wireshark** for packet analyzing"
   ]
  },
  {
   "cell_type": "markdown",
   "metadata": {},
   "source": [
    "# 💡 Ideas"
   ]
  },
  {
   "cell_type": "markdown",
   "metadata": {},
   "source": [
    "1. Increase the robustness of IDS using adversarial attacks we can use GANs for that.\n",
    "2. An adversarial multi agent RL (an ids agent and an attacker) inspired from the [Hide & Seek example](https://www.youtube.com/watch?v=kopoLzvh5jY) from OpenAI."
   ]
  },
  {
   "cell_type": "code",
   "execution_count": null,
   "metadata": {},
   "outputs": [],
   "source": []
  }
 ],
 "metadata": {
  "kernelspec": {
   "display_name": "Python 3",
   "language": "python",
   "name": "python3"
  },
  "language_info": {
   "codemirror_mode": {
    "name": "ipython",
    "version": 3
   },
   "file_extension": ".py",
   "mimetype": "text/x-python",
   "name": "python",
   "nbconvert_exporter": "python",
   "pygments_lexer": "ipython3",
   "version": "3.7.3"
  }
 },
 "nbformat": 4,
 "nbformat_minor": 4
}
