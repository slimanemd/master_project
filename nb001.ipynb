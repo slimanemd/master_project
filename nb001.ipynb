{
 "cells": [
  {
   "cell_type": "markdown",
   "metadata": {},
   "source": [
    "# Intrusion-detection-system & Machine Learning"
   ]
  },
  {
   "cell_type": "markdown",
   "metadata": {},
   "source": [
    "## References\n",
    "<!-- <a href=\"\">0</a>-   -->\n",
    "\n",
    "<a href=\"https://github.com/dimtics/Network-Intrusion-Detection-Using-Machine-Learning-Techniques\">01</a>- \n",
    "Demetric, Network Intrusion Detection Using Machine Learning Techniques <br>\n",
    "<a href=\"https://github.com/Anshumank399/Network-Intrusion-Detection-using-Machine-Learning\">02</a>- \n",
    "Anshumank399, Network-Intrusion-Detection-using-Machine-Learning<br>\n",
    "<a href=\"https://github.com/prabhant/Network-Intrusion-detection-with-machine-learning\">03</a>- \n",
    "prabhant, Network-Intrusion-detection-with-machine-learning<br>\n",
    "<a href=\"https://github.com/CynthiaKoopman/Network-Intrusion-Detection\">04</a>-\n",
    "CynthiaKoopman,Network-Intrusion-Detection Machine Learning with the NSL-KDD dataset for Network Intrusion Detection<br>\n",
    "<a href=\"https://github.com/reshu-b7/Machine-Learning-for-Network-Intrusion-Detection-System\">05</a>-\n",
    "reshu-b7, Machine-Learning-for-Network-Intrusion-Detection-System<br>\n",
    "<a href=\"https://github.com/topics/intrusion-detection-system\">06</a>-\n",
    "Topics, intrusion-detection-system<br>\n",
    "<a href=\"https://github.com/rahulvigneswaran/Intrusion-Detection-Systems\">07</a>-\n",
    "rahulvigneswaran, Intrusion-Detection-Systems. This is the repo of the research paper, \"Evaluating Shallow and Deep Neural Networks for Network Intrusion Detection Systems in Cyber Security<br>\n",
    "<a href=\"https://github.com/vinayakumarr/Network-Intrusion-Detection\">08</a>-\n",
    "vinayakumarr, Network-Intrusion-Detection. Network Intrusion Detection KDDCup '99', NSL-KDD and UNSW-NB15<br>\n",
    "<a href=\"https://github.com/topics/intrusion-detection\">09</a>-\n",
    "topic, intrusion-detection<br>\n",
    "<a href=\"https://github.com/aalbalaw/Building-Intrusion-Detection-System\">10</a>-\n",
    "Aalbalaw, Building Intrusion Detection System for Network Security Using the KD99 Data Set<br>\n",
    "<a href=\"https://octolinker-demo.now.sh/CynthiaKoopman/Network-Intrusion-Detection\">11</a>-\n",
    "CynthiaKoopman, Network-Intrusion-Detection, Machine Learning with the NSL-KDD dataset for Network Intrusion Detection<br>\n",
    "<a href=\"https://thesai.org/Downloads/Volume7No4/Paper_19-A_Subset_Feature_Elimination_Mechanism_for_Intrusion_Detection_System.pdf\">12</a>-\n",
    "A_Subset_Feature_Elimination_Mechanism_for_Intrusion_Detection_System<br>\n",
    "<a href=\"https://github.com/imRP26/Network-based-Intrusion-Detection-Systems\">13</a>-\n",
    "imRP26, Network-based-Intrusion-Detection-Systems\n",
    "\n"
   ]
  },
  {
   "cell_type": "code",
   "execution_count": null,
   "metadata": {},
   "outputs": [],
   "source": []
  }
 ],
 "metadata": {
  "kernelspec": {
   "display_name": "Python 3",
   "language": "python",
   "name": "python3"
  },
  "language_info": {
   "codemirror_mode": {
    "name": "ipython",
    "version": 3
   },
   "file_extension": ".py",
   "mimetype": "text/x-python",
   "name": "python",
   "nbconvert_exporter": "python",
   "pygments_lexer": "ipython3",
   "version": "3.7.3"
  }
 },
 "nbformat": 4,
 "nbformat_minor": 4
}
